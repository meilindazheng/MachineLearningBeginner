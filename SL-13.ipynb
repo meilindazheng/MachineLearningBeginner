{
 "cells": [
  {
   "cell_type": "markdown",
   "id": "9e9c3593",
   "metadata": {},
   "source": [
    "# Classification Task dengan Decision Tree"
   ]
  },
  {
   "cell_type": "markdown",
   "id": "eb9a5740",
   "metadata": {},
   "source": [
    "## Konsep dasar Decision Tree\n",
    "\n",
    "### Terminology : root node, internal node, leaf node\n",
    "- Root node akan menempati posisi paling atas \n",
    "- Leaf node akan menempati posisi paling akhir\n",
    "- Internal node akan menempati posisi antara roof node dan leaf node\n",
    "- Nb : Algoritma decision tree yang akan dibahas adalah CART (Classification and Regression Tree)\n",
    "- Beberapa contoh algortima decision tree : ID3, C4.5 , C5.0"
   ]
  },
  {
   "cell_type": "markdown",
   "id": "cd2c8f51",
   "metadata": {},
   "source": [
    "## Pengenalan Gini Impurity\n",
    "- Gini impurity merupakan salah satu cara mengukur ketidakmurnian (impurity measure)\n",
    "- Gini impurity memiliki nilai jangkauan 0-1 dimana nilai 0 mengindikasikan nilai murni sempurna dan nilai 1 mengindikasikan ketidakmurnian"
   ]
  },
  {
   "attachments": {
    "Screenshot%202022-05-26%20102511.png": {
     "image/png": "[encoded data removed]"
    }
   },
   "cell_type": "markdown",
   "id": "8de642d6",
   "metadata": {},
   "source": [
    "![Screenshot%202022-05-26%20102511.png](attachment:Screenshot%202022-05-26%20102511.png)"
   ]
  },
  {
   "cell_type": "markdown",
   "id": "2f3d434b",
   "metadata": {},
   "source": [
    "## Pengukuran Gini Impurity\n"
   ]
  },
  {
   "cell_type": "markdown",
   "id": "c2d31a0f",
   "metadata": {},
   "source": [
    "### Ruas Kiri\n",
    "$G$ = $1-\\sum \\limits_{i}^{n}P{i^2}$"
   ]
  },
  {
   "cell_type": "markdown",
   "id": "bd68f630",
   "metadata": {},
   "source": [
    "= $1-P{(biru)^2}$"
   ]
  },
  {
   "cell_type": "markdown",
   "id": "5797fc64",
   "metadata": {},
   "source": [
    "= $1-{(\\frac{4}{4})^2}=0$"
   ]
  },
  {
   "cell_type": "markdown",
   "id": "b5872dc6",
   "metadata": {},
   "source": [
    "### Ruas Kanan\n",
    "$G$ = $1-\\sum \\limits_{i}^{n}P{i^2}$"
   ]
  },
  {
   "cell_type": "markdown",
   "id": "f595ade1",
   "metadata": {},
   "source": [
    "= $1-(P{(biru)^2}+P{(hijau)^2})$"
   ]
  },
  {
   "cell_type": "markdown",
   "id": "6873ae76",
   "metadata": {},
   "source": [
    "= $1-{((\\frac{1}{6})^2+(\\frac{5}{6})^2)}=0.278$"
   ]
  },
  {
   "cell_type": "markdown",
   "id": "0b3ed786",
   "metadata": {},
   "source": [
    "### Average Gini Impurity"
   ]
  },
  {
   "cell_type": "markdown",
   "id": "3f3f0417",
   "metadata": {},
   "source": [
    "$G$ = $\\frac{4}{4+6} x 0 +c\\frac{6}{4+6} x 0.278$\n",
    "= 0.1668"
   ]
  },
  {
   "cell_type": "markdown",
   "id": "7dd4b773",
   "metadata": {},
   "source": [
    "### Catatan Penting\n",
    "- Cara mendapatkan kalkukasi information gain adalah dengan mengurangkan gini impurity dengan average gini impurity"
   ]
  },
  {
   "cell_type": "markdown",
   "id": "ab0fb1f9",
   "metadata": {},
   "source": [
    "## Membangun Decision Tree"
   ]
  },
  {
   "attachments": {
    "Screenshot%202022-05-26%20123339.png": {
     "image/png": "[encoded data removed]"
    }
   },
   "cell_type": "markdown",
   "id": "f9bdfbc4",
   "metadata": {},
   "source": [
    "![Screenshot%202022-05-26%20123339.png](attachment:Screenshot%202022-05-26%20123339.png)"
   ]
  },
  {
   "cell_type": "markdown",
   "id": "a5422020",
   "metadata": {},
   "source": [
    "$G$ = $1-(P{(apple)^2}+P{(grape)^2}+P{(lemon)^2})$"
   ]
  },
  {
   "cell_type": "markdown",
   "id": "58204d15",
   "metadata": {},
   "source": [
    "= $1-{((\\frac{2}{5})^2+(\\frac{2}{5})^2)+(\\frac{1}{5})^2)}=0.63$"
   ]
  },
  {
   "cell_type": "markdown",
   "id": "6e21bc56",
   "metadata": {},
   "source": [
    "## Dataset"
   ]
  },
  {
   "cell_type": "code",
   "execution_count": 3,
   "id": "17a6cbd2",
   "metadata": {},
   "outputs": [
    {
     "name": "stdout",
     "output_type": "stream",
     "text": [
      "Dimensi feature : (150, 4)\n",
      "Class : {0, 1, 2}\n"
     ]
    }
   ],
   "source": [
    "from sklearn.datasets import load_iris\n",
    "\n",
    "X,y = load_iris(return_X_y = True)\n",
    "print(f'Dimensi feature : {X.shape}')\n",
    "print(f'Class : {set(y)}')"
   ]
  },
  {
   "cell_type": "code",
   "execution_count": 4,
   "id": "96d7d3d0",
   "metadata": {},
   "outputs": [],
   "source": [
    "from sklearn.model_selection import train_test_split\n",
    "X_train, x_test, y_train, y_test = train_test_split(X,\n",
    "                                                   y,\n",
    "                                                   test_size = 0.3,\n",
    "                                                   random_state = 0)"
   ]
  },
  {
   "cell_type": "code",
   "execution_count": null,
   "id": "f68df8ad",
   "metadata": {},
   "outputs": [],
   "source": []
  }
 ],
 "metadata": {
  "kernelspec": {
   "display_name": "Python 3 (ipykernel)",
   "language": "python",
   "name": "python3"
  },
  "language_info": {
   "codemirror_mode": {
    "name": "ipython",
    "version": 3
   },
   "file_extension": ".py",
   "mimetype": "text/x-python",
   "name": "python",
   "nbconvert_exporter": "python",
   "pygments_lexer": "ipython3",
   "version": "3.9.7"
  }
 },
 "nbformat": 4,
 "nbformat_minor": 5
}
