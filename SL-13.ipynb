{
 "cells": [
  {
   "cell_type": "markdown",
   "id": "d84d688e",
   "metadata": {},
   "source": [
    "# Classification Task dengan Decision Tree"
   ]
  },
  {
   "cell_type": "markdown",
   "id": "56317f3c",
   "metadata": {},
   "source": [
    "## Konsep dasar Decision Tree\n",
    "\n",
    "### Terminology : root node, internal node, leaf node\n",
    "- Root node akan menempati posisi paling atas \n",
    "- Leaf node akan menempati posisi paling akhir\n",
    "- Internal node akan menempati posisi antara roof node dan leaf node\n",
    "- Nb : Algoritma decision tree yang akan dibahas adalah CART (Classification and Regression Tree)\n",
    "- Beberapa contoh algortima decision tree : ID3, C4.5 , C5.0"
   ]
  },
  {
   "cell_type": "code",
   "execution_count": null,
   "id": "83a63b4a",
   "metadata": {},
   "outputs": [],
   "source": []
  }
 ],
 "metadata": {
  "kernelspec": {
   "display_name": "Python 3 (ipykernel)",
   "language": "python",
   "name": "python3"
  },
  "language_info": {
   "codemirror_mode": {
    "name": "ipython",
    "version": 3
   },
   "file_extension": ".py",
   "mimetype": "text/x-python",
   "name": "python",
   "nbconvert_exporter": "python",
   "pygments_lexer": "ipython3",
   "version": "3.9.7"
  }
 },
 "nbformat": 4,
 "nbformat_minor": 5
}
