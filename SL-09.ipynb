{
 "cells": [
  {
   "cell_type": "markdown",
   "id": "1fd76a03",
   "metadata": {},
   "source": [
    "# Mengenal Text Processing : Bags of Words & Stop Word Filtering"
   ]
  },
  {
   "cell_type": "markdown",
   "id": "6f2b64c6",
   "metadata": {},
   "source": [
    "## Bag of Words model sebagai representasi text\n",
    "Bag of Words menyederhanakan representasi text sebagai sekumpulan kata serta mengabaikan grammar dan posisi tiap kata pada kalimat. Text akan dikonversi menjadi lowercase dan tanda baca akan diabaikan."
   ]
  },
  {
   "cell_type": "markdown",
   "id": "5fff5a14",
   "metadata": {},
   "source": [
    "### Dataset"
   ]
  },
  {
   "cell_type": "code",
   "execution_count": 1,
   "id": "4e120c61",
   "metadata": {},
   "outputs": [
    {
     "data": {
      "text/plain": [
       "['linux has been around since mid 1990-s',\n",
       " 'Linux distributions include the Linux-kernel',\n",
       " 'Linux is one of the most prominent open-source software']"
      ]
     },
     "execution_count": 1,
     "metadata": {},
     "output_type": "execute_result"
    }
   ],
   "source": [
    "corpus = [\n",
    "    'linux has been around since mid 1990-s',\n",
    "    'Linux distributions include the Linux-kernel',\n",
    "    'Linux is one of the most prominent open-source software'\n",
    "]\n",
    "corpus"
   ]
  },
  {
   "cell_type": "markdown",
   "id": "c01dcaa8",
   "metadata": {},
   "source": [
    "## Bag of Words model dengan CountVectorizer\n",
    "- method todense() digunakan untuk mentransformasikan sebuah objek menjadi array\n",
    "- Nilai pada array yang berkorelasi dengan feature_names merepresentasikan jumlah kemunculan token dalam kalimat"
   ]
  },
  {
   "cell_type": "code",
   "execution_count": 2,
   "id": "93fe1438",
   "metadata": {},
   "outputs": [
    {
     "data": {
      "text/plain": [
       "matrix([[1, 1, 1, 0, 1, 0, 0, 0, 1, 1, 0, 0, 0, 0, 0, 1, 0, 0, 0],\n",
       "        [0, 0, 0, 1, 0, 1, 0, 1, 2, 0, 0, 0, 0, 0, 0, 0, 0, 0, 1],\n",
       "        [0, 0, 0, 0, 0, 0, 1, 0, 1, 0, 1, 1, 1, 1, 1, 0, 1, 1, 1]],\n",
       "       dtype=int64)"
      ]
     },
     "execution_count": 2,
     "metadata": {},
     "output_type": "execute_result"
    }
   ],
   "source": [
    "from sklearn.feature_extraction.text import CountVectorizer\n",
    "vectorizer = CountVectorizer()\n",
    "vectorized_X = vectorizer.fit_transform(corpus).todense()\n",
    "vectorized_X"
   ]
  },
  {
   "cell_type": "code",
   "execution_count": 3,
   "id": "16cd7731",
   "metadata": {},
   "outputs": [
    {
     "data": {
      "text/plain": [
       "['1990',\n",
       " 'around',\n",
       " 'been',\n",
       " 'distributions',\n",
       " 'has',\n",
       " 'include',\n",
       " 'is',\n",
       " 'kernel',\n",
       " 'linux',\n",
       " 'mid',\n",
       " 'most',\n",
       " 'of',\n",
       " 'one',\n",
       " 'open',\n",
       " 'prominent',\n",
       " 'since',\n",
       " 'software',\n",
       " 'source',\n",
       " 'the']"
      ]
     },
     "execution_count": 3,
     "metadata": {},
     "output_type": "execute_result"
    }
   ],
   "source": [
    "vectorizer.get_feature_names()"
   ]
  },
  {
   "cell_type": "markdown",
   "id": "87629dce",
   "metadata": {},
   "source": [
    "## Euclidean Distance untuk mengukur kedekatan / jarak antar dokumen (vector)"
   ]
  },
  {
   "cell_type": "code",
   "execution_count": 4,
   "id": "980703c9",
   "metadata": {},
   "outputs": [
    {
     "name": "stdout",
     "output_type": "stream",
     "text": [
      "Jarak dokumen 1 dan 2 adalah [[3.31662479]]\n",
      "Jarak dokumen 1 dan 3 adalah [[3.87298335]]\n",
      "Jarak dokumen 2 dan 3 adalah [[3.46410162]]\n"
     ]
    }
   ],
   "source": [
    "from sklearn.metrics.pairwise import euclidean_distances\n",
    "\n",
    "for i in range (len(vectorized_X)):\n",
    "    for j in range (i,len(vectorized_X)):\n",
    "        if i == j :\n",
    "            continue\n",
    "        jarak = euclidean_distances(vectorized_X[i],vectorized_X[j])\n",
    "        print(f'Jarak dokumen {i+1} dan {j+1} adalah {jarak}')"
   ]
  },
  {
   "cell_type": "markdown",
   "id": "855a5620",
   "metadata": {},
   "source": [
    "## Stop Word pada Filtering Text\n",
    "Stop Word menyerdehanakan representasi text dengan mengabaikan beberapa kata seperti determiners (the,a,an), auxiliary verbs (do,be,will) dan prepositions (on,in,at)"
   ]
  },
  {
   "cell_type": "markdown",
   "id": "42c28958",
   "metadata": {},
   "source": [
    "### Dataset"
   ]
  },
  {
   "cell_type": "code",
   "execution_count": 5,
   "id": "7adafceb",
   "metadata": {},
   "outputs": [
    {
     "data": {
      "text/plain": [
       "['linux has been around since mid 1990-s',\n",
       " 'Linux distributions include the Linux-kernel',\n",
       " 'Linux is one of the most prominent open-source software']"
      ]
     },
     "execution_count": 5,
     "metadata": {},
     "output_type": "execute_result"
    }
   ],
   "source": [
    "corpus"
   ]
  },
  {
   "cell_type": "markdown",
   "id": "39ae5b0e",
   "metadata": {},
   "source": [
    "### Stop Word Filtering dengan countvectorizer"
   ]
  },
  {
   "cell_type": "code",
   "execution_count": 6,
   "id": "8147f29e",
   "metadata": {},
   "outputs": [
    {
     "data": {
      "text/plain": [
       "matrix([[1, 0, 0, 0, 1, 1, 0, 0, 0, 0],\n",
       "        [0, 1, 1, 1, 2, 0, 0, 0, 0, 0],\n",
       "        [0, 0, 0, 0, 1, 0, 1, 1, 1, 1]], dtype=int64)"
      ]
     },
     "execution_count": 6,
     "metadata": {},
     "output_type": "execute_result"
    }
   ],
   "source": [
    "from sklearn.feature_extraction.text import CountVectorizer\n",
    "\n",
    "vectorizer = CountVectorizer(stop_words='english')\n",
    "vectorized_X = vectorizer.fit_transform(corpus).todense()\n",
    "vectorized_X"
   ]
  },
  {
   "cell_type": "code",
   "execution_count": 7,
   "id": "8a719a01",
   "metadata": {},
   "outputs": [
    {
     "data": {
      "text/plain": [
       "['1990',\n",
       " 'distributions',\n",
       " 'include',\n",
       " 'kernel',\n",
       " 'linux',\n",
       " 'mid',\n",
       " 'open',\n",
       " 'prominent',\n",
       " 'software',\n",
       " 'source']"
      ]
     },
     "execution_count": 7,
     "metadata": {},
     "output_type": "execute_result"
    }
   ],
   "source": [
    "vectorizer.get_feature_names()"
   ]
  },
  {
   "cell_type": "markdown",
   "id": "65e990a4",
   "metadata": {},
   "source": [
    "# Mengenal TF-IDF (Terms Frequency - Inverse Document Frequency)\n",
    "- TF-IDF digunakan untuk mengukur seberapa penting sebuah kata terhadap dokumen dari sekumpulan dokumen atau corpus"
   ]
  },
  {
   "cell_type": "markdown",
   "id": "00b89429",
   "metadata": {},
   "source": [
    "### Dataset"
   ]
  },
  {
   "cell_type": "code",
   "execution_count": 9,
   "id": "7d8f701d",
   "metadata": {},
   "outputs": [
    {
     "data": {
      "text/plain": [
       "['the house had a tiny little mouse',\n",
       " 'the cat saw the mouse',\n",
       " 'the mouse ran away from the house',\n",
       " 'the cat finally ate the  mouse',\n",
       " 'the end of the mouse story']"
      ]
     },
     "execution_count": 9,
     "metadata": {},
     "output_type": "execute_result"
    }
   ],
   "source": [
    "corpus = [\n",
    "    'the house had a tiny little mouse',\n",
    "    'the cat saw the mouse',\n",
    "    'the mouse ran away from the house',\n",
    "    'the cat finally ate the  mouse',\n",
    "    'the end of the mouse story'\n",
    "]\n",
    "corpus"
   ]
  },
  {
   "cell_type": "code",
   "execution_count": null,
   "id": "1b8c8aa1",
   "metadata": {},
   "outputs": [],
   "source": []
  }
 ],
 "metadata": {
  "kernelspec": {
   "display_name": "Python 3 (ipykernel)",
   "language": "python",
   "name": "python3"
  },
  "language_info": {
   "codemirror_mode": {
    "name": "ipython",
    "version": 3
   },
   "file_extension": ".py",
   "mimetype": "text/x-python",
   "name": "python",
   "nbconvert_exporter": "python",
   "pygments_lexer": "ipython3",
   "version": "3.9.7"
  }
 },
 "nbformat": 4,
 "nbformat_minor": 5
}
