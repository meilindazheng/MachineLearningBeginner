{
 "cells": [
  {
   "cell_type": "markdown",
   "id": "7dd3632f",
   "metadata": {},
   "source": [
    "# Classification Task dengan Decision Tree"
   ]
  },
  {
   "cell_type": "markdown",
   "id": "9b7de8b0",
   "metadata": {},
   "source": [
    "## Konsep dasar Decision Tree\n",
    "\n",
    "### Terminology : root node, internal node, leaf node\n",
    "- Root node akan menempati posisi paling atas \n",
    "- Leaf node akan menempati posisi paling akhir\n",
    "- Internal node akan menempati posisi antara roof node dan leaf node\n",
    "- Nb : Algoritma decision tree yang akan dibahas adalah CART (Classification and Regression Tree)\n",
    "- Beberapa contoh algortima decision tree : ID3, C4.5 , C5.0"
   ]
  },
  {
   "cell_type": "markdown",
   "id": "e14eb935",
   "metadata": {},
   "source": [
    "## Pengenalan Gini Impurity\n",
    "- Gini impurity merupakan salah satu cara mengukur ketidakmurnian (impurity measure)\n",
    "- Gini impurity memiliki nilai jangkauan 0-1 dimana nilai 0 mengindikasikan nilai murni sempurna dan nilai 1 mengindikasikan ketidakmurnian"
   ]
  },
  {
   "attachments": {
    "Screenshot%202022-05-26%20102511.png": {
     "image/png": "[encoded data removed]"
    }
   },
   "cell_type": "markdown",
   "id": "f5ccec7d",
   "metadata": {},
   "source": [
    "![Screenshot%202022-05-26%20102511.png](attachment:Screenshot%202022-05-26%20102511.png)"
   ]
  },
  {
   "cell_type": "markdown",
   "id": "cc0718af",
   "metadata": {},
   "source": [
    "## Pengukuran Gini Impurity\n"
   ]
  },
  {
   "cell_type": "markdown",
   "id": "f2ba5c89",
   "metadata": {},
   "source": [
    "### Ruas Kiri\n",
    "$G$ = $1-\\sum \\limits_{i}^{n}P{i^2}$"
   ]
  },
  {
   "cell_type": "markdown",
   "id": "3b5fa0d5",
   "metadata": {},
   "source": [
    "= $1-P{(biru)^2}$"
   ]
  },
  {
   "cell_type": "markdown",
   "id": "1952d853",
   "metadata": {},
   "source": [
    "= $1-{(\\frac{4}{4})^2}=0$"
   ]
  },
  {
   "cell_type": "markdown",
   "id": "d74591e3",
   "metadata": {},
   "source": [
    "### Ruas Kanan\n",
    "$G$ = $1-\\sum \\limits_{i}^{n}P{i^2}$"
   ]
  },
  {
   "cell_type": "markdown",
   "id": "e69b05fc",
   "metadata": {},
   "source": [
    "= $1-(P{(biru)^2}+P{(hijau)^2})$"
   ]
  },
  {
   "cell_type": "markdown",
   "id": "60fc7dba",
   "metadata": {},
   "source": [
    "= $1-{((\\frac{1}{6})^2+(\\frac{5}{6})^2)}=0.278$"
   ]
  },
  {
   "cell_type": "markdown",
   "id": "29f85a27",
   "metadata": {},
   "source": [
    "### Average Gini Impurity"
   ]
  },
  {
   "cell_type": "markdown",
   "id": "fc9cb268",
   "metadata": {},
   "source": [
    "$G$ = $\\frac{4}{4+6} x 0 +c\\frac{6}{4+6} x 0.278$\n",
    "= 0.1668"
   ]
  },
  {
   "cell_type": "markdown",
   "id": "1efd677a",
   "metadata": {},
   "source": [
    "### Catatan Penting\n",
    "- Cara mendapatkan kalkukasi information gain adalah dengan mengurangkan gini impurity dengan average gini impurity"
   ]
  },
  {
   "cell_type": "code",
   "execution_count": null,
   "id": "82c0cfef",
   "metadata": {},
   "outputs": [],
   "source": []
  }
 ],
 "metadata": {
  "kernelspec": {
   "display_name": "Python 3 (ipykernel)",
   "language": "python",
   "name": "python3"
  },
  "language_info": {
   "codemirror_mode": {
    "name": "ipython",
    "version": 3
   },
   "file_extension": ".py",
   "mimetype": "text/x-python",
   "name": "python",
   "nbconvert_exporter": "python",
   "pygments_lexer": "ipython3",
   "version": "3.9.7"
  }
 },
 "nbformat": 4,
 "nbformat_minor": 5
}
