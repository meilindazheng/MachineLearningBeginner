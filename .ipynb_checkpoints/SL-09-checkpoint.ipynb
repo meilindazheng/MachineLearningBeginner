{
 "cells": [
  {
   "cell_type": "markdown",
   "id": "1fd76a03",
   "metadata": {},
   "source": [
    "# Mengenal Text Processing : Bags of Words & Stop Word Filtering"
   ]
  },
  {
   "cell_type": "markdown",
   "id": "6f2b64c6",
   "metadata": {},
   "source": [
    "## Bag of Words model sebagai representasi text\n",
    "Bag of Words menyederhanakan representasi text sebagai sekumpulan kata serta mengabaikan grammar dan posisi tiap kata pada kalimat. Text akan dikonversi menjadi lowercase dan tanda baca akan diabaikan."
   ]
  },
  {
   "cell_type": "markdown",
   "id": "5fff5a14",
   "metadata": {},
   "source": [
    "### Dataset"
   ]
  },
  {
   "cell_type": "code",
   "execution_count": 1,
   "id": "4e120c61",
   "metadata": {},
   "outputs": [
    {
     "data": {
      "text/plain": [
       "['linux has been around since mid 1990-s',\n",
       " 'Linux distributions include the Linux-kernel',\n",
       " 'Linux is one of the most prominent open-source software']"
      ]
     },
     "execution_count": 1,
     "metadata": {},
     "output_type": "execute_result"
    }
   ],
   "source": [
    "corpus = [\n",
    "    'linux has been around since mid 1990-s',\n",
    "    'Linux distributions include the Linux-kernel',\n",
    "    'Linux is one of the most prominent open-source software'\n",
    "]\n",
    "corpus"
   ]
  },
  {
   "cell_type": "markdown",
   "id": "02fa8833",
   "metadata": {},
   "source": [
    "## Bag of Words model dengan CountVectorizer\n",
    "- method todense() digunakan untuk mentransformasikan sebuah objek menjadi array\n",
    "- Nilai pada array yang berkorelasi dengan feature_names merepresentasikan jumlah kemunculan token dalam kalimat"
   ]
  },
  {
   "cell_type": "code",
   "execution_count": 2,
   "id": "d20d1ecd",
   "metadata": {},
   "outputs": [
    {
     "data": {
      "text/plain": [
       "matrix([[1, 1, 1, 0, 1, 0, 0, 0, 1, 1, 0, 0, 0, 0, 0, 1, 0, 0, 0],\n",
       "        [0, 0, 0, 1, 0, 1, 0, 1, 2, 0, 0, 0, 0, 0, 0, 0, 0, 0, 1],\n",
       "        [0, 0, 0, 0, 0, 0, 1, 0, 1, 0, 1, 1, 1, 1, 1, 0, 1, 1, 1]],\n",
       "       dtype=int64)"
      ]
     },
     "execution_count": 2,
     "metadata": {},
     "output_type": "execute_result"
    }
   ],
   "source": [
    "from sklearn.feature_extraction.text import CountVectorizer\n",
    "vectorizer = CountVectorizer()\n",
    "vectorized_X = vectorizer.fit_transform(corpus).todense()\n",
    "vectorized_X"
   ]
  },
  {
   "cell_type": "code",
   "execution_count": 3,
   "id": "aeeab184",
   "metadata": {},
   "outputs": [
    {
     "data": {
      "text/plain": [
       "['1990',\n",
       " 'around',\n",
       " 'been',\n",
       " 'distributions',\n",
       " 'has',\n",
       " 'include',\n",
       " 'is',\n",
       " 'kernel',\n",
       " 'linux',\n",
       " 'mid',\n",
       " 'most',\n",
       " 'of',\n",
       " 'one',\n",
       " 'open',\n",
       " 'prominent',\n",
       " 'since',\n",
       " 'software',\n",
       " 'source',\n",
       " 'the']"
      ]
     },
     "execution_count": 3,
     "metadata": {},
     "output_type": "execute_result"
    }
   ],
   "source": [
    "vectorizer.get_feature_names()"
   ]
  },
  {
   "cell_type": "code",
   "execution_count": null,
   "id": "4dea0a2a",
   "metadata": {},
   "outputs": [],
   "source": []
  }
 ],
 "metadata": {
  "kernelspec": {
   "display_name": "Python 3 (ipykernel)",
   "language": "python",
   "name": "python3"
  },
  "language_info": {
   "codemirror_mode": {
    "name": "ipython",
    "version": 3
   },
   "file_extension": ".py",
   "mimetype": "text/x-python",
   "name": "python",
   "nbconvert_exporter": "python",
   "pygments_lexer": "ipython3",
   "version": "3.9.7"
  }
 },
 "nbformat": 4,
 "nbformat_minor": 5
}
