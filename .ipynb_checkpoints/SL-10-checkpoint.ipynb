{
 "cells": [
  {
   "cell_type": "markdown",
   "id": "e97ac2ec",
   "metadata": {},
   "source": [
    "# Logistic Regression pada Binary Classification Task"
   ]
  },
  {
   "cell_type": "markdown",
   "id": "e3b2a35a",
   "metadata": {},
   "source": [
    "## Formula Dasar\n",
    "perbedaan mendasar dari simple linear regression dengan multiple linear regression adalah \n",
    "- Pada simple linear regression nilai x merupakan feature tunggal\n",
    "- Pada multiple linear regression nilai X merupakan feature jamak"
   ]
  },
  {
   "cell_type": "markdown",
   "id": "ebdab74a",
   "metadata": {},
   "source": [
    "### Simple Linear Regression\n",
    "####  $y$ =  $\\alpha$ +  $\\beta_{x}$\n",
    "#### $g(x)$ = $\\alpha$ +  $\\beta_{x}$\n",
    "### Multiple Linear Regression\n",
    "####  $y$ =  $\\alpha$ +  $\\beta_{1}x_{1}$ +  $\\beta_{2}x_{2}$ + ... +  $\\beta_{n}x_{n}$\n",
    "#### $g(X)$ = $\\alpha$ +  $\\beta$X\n",
    "### Logistic Regression\n",
    "#### $g(X)$ = $sigmoid(\\alpha +\\beta X)$\n",
    "#### $sigmoid(x)$ =  $\\frac{1}{1+exp(-x)}$"
   ]
  },
  {
   "cell_type": "markdown",
   "id": "70750419",
   "metadata": {},
   "source": [
    "Catatan penting :\n",
    "- Kurva sigmoid hasil penggambaran akan memiliki bentuk seperti huruf S\n",
    "- Tidak ada patokan khusus untuk rentang nilai di sumbu X\n",
    "- Rentang nilai di sumbu y berkisar di antara 0-1"
   ]
  },
  {
   "cell_type": "markdown",
   "id": "511d9c65",
   "metadata": {},
   "source": [
    "## Dataset SMS Spam Collection Data Set\n",
    "- Dataset di bawah merupakan contoh dataset yang tidak balance dikarenakan jumlah ham jauh lebih besar dibandingkan jumlah spam"
   ]
  },
  {
   "cell_type": "code",
   "execution_count": 2,
   "id": "87d709a6",
   "metadata": {},
   "outputs": [
    {
     "data": {
      "text/html": [
       "<div>\n",
       "<style scoped>\n",
       "    .dataframe tbody tr th:only-of-type {\n",
       "        vertical-align: middle;\n",
       "    }\n",
       "\n",
       "    .dataframe tbody tr th {\n",
       "        vertical-align: top;\n",
       "    }\n",
       "\n",
       "    .dataframe thead th {\n",
       "        text-align: right;\n",
       "    }\n",
       "</style>\n",
       "<table border=\"1\" class=\"dataframe\">\n",
       "  <thead>\n",
       "    <tr style=\"text-align: right;\">\n",
       "      <th></th>\n",
       "      <th>label</th>\n",
       "      <th>sms</th>\n",
       "    </tr>\n",
       "  </thead>\n",
       "  <tbody>\n",
       "    <tr>\n",
       "      <th>0</th>\n",
       "      <td>ham</td>\n",
       "      <td>Go until jurong point, crazy.. Available only ...</td>\n",
       "    </tr>\n",
       "    <tr>\n",
       "      <th>1</th>\n",
       "      <td>ham</td>\n",
       "      <td>Ok lar... Joking wif u oni...</td>\n",
       "    </tr>\n",
       "    <tr>\n",
       "      <th>2</th>\n",
       "      <td>spam</td>\n",
       "      <td>Free entry in 2 a wkly comp to win FA Cup fina...</td>\n",
       "    </tr>\n",
       "    <tr>\n",
       "      <th>3</th>\n",
       "      <td>ham</td>\n",
       "      <td>U dun say so early hor... U c already then say...</td>\n",
       "    </tr>\n",
       "    <tr>\n",
       "      <th>4</th>\n",
       "      <td>ham</td>\n",
       "      <td>Nah I don't think he goes to usf, he lives aro...</td>\n",
       "    </tr>\n",
       "  </tbody>\n",
       "</table>\n",
       "</div>"
      ],
      "text/plain": [
       "  label                                                sms\n",
       "0   ham  Go until jurong point, crazy.. Available only ...\n",
       "1   ham                      Ok lar... Joking wif u oni...\n",
       "2  spam  Free entry in 2 a wkly comp to win FA Cup fina...\n",
       "3   ham  U dun say so early hor... U c already then say...\n",
       "4   ham  Nah I don't think he goes to usf, he lives aro..."
      ]
     },
     "execution_count": 2,
     "metadata": {},
     "output_type": "execute_result"
    }
   ],
   "source": [
    "import pandas as pd \n",
    "df = pd.read_csv('./SMSSpamCollection',\n",
    "                sep='\\t',\n",
    "                header = None,\n",
    "                names = ['label','sms'])\n",
    "df.head()"
   ]
  },
  {
   "cell_type": "code",
   "execution_count": 3,
   "id": "78b8d258",
   "metadata": {},
   "outputs": [
    {
     "data": {
      "text/plain": [
       "ham     4825\n",
       "spam     747\n",
       "Name: label, dtype: int64"
      ]
     },
     "execution_count": 3,
     "metadata": {},
     "output_type": "execute_result"
    }
   ],
   "source": [
    "df['label'].value_counts()"
   ]
  },
  {
   "cell_type": "markdown",
   "id": "f6ddd906",
   "metadata": {},
   "source": [
    "## Training and Testing dataset\n",
    "Catatan penting :\n",
    "- LabelBinarizer digunakan untuk mengkonversi nilai sms menjadi nilai 0 atau 1\n",
    "- Fungsi .ravel() digunakan untuk mengkonversi array multi dimensi menjadi array 1 dimensi\n",
    "- test_size dengan nilai 0.25 mengindikasikan proporsi 25% dari data akan digunakan sebagai testing set sedangkan 75% sisanya akan digunakan sebagai training set"
   ]
  },
  {
   "cell_type": "code",
   "execution_count": 4,
   "id": "0929b332",
   "metadata": {},
   "outputs": [
    {
     "data": {
      "text/plain": [
       "array(['ham', 'spam'], dtype='<U4')"
      ]
     },
     "execution_count": 4,
     "metadata": {},
     "output_type": "execute_result"
    }
   ],
   "source": [
    "from sklearn.preprocessing import LabelBinarizer\n",
    "X = df['sms'].values\n",
    "y = df['label'].values\n",
    "\n",
    "lb = LabelBinarizer()\n",
    "y = lb.fit_transform(y).ravel()\n",
    "lb.classes_"
   ]
  },
  {
   "cell_type": "code",
   "execution_count": 5,
   "id": "1dfe9a44",
   "metadata": {},
   "outputs": [
    {
     "name": "stdout",
     "output_type": "stream",
     "text": [
      "['Its going good...no problem..but still need little experience to understand american customer voice...'\n",
      " 'U have a secret admirer. REVEAL who thinks U R So special. Call 09065174042. To opt out Reply REVEAL STOP. 1.50 per msg recd. Cust care 07821230901'\n",
      " 'Ok...' ...\n",
      " \"For ur chance to win a £250 cash every wk TXT: ACTION to 80608. T's&C's www.movietrivia.tv custcare 08712405022, 1x150p/wk\"\n",
      " 'R U &SAM P IN EACHOTHER. IF WE MEET WE CAN GO 2 MY HOUSE'\n",
      " 'Mm feeling sleepy. today itself i shall get that dear'] \n",
      "\n",
      "[0 1 0 ... 1 0 0]\n"
     ]
    }
   ],
   "source": [
    "from sklearn.model_selection import train_test_split\n",
    "X_train, X_test, y_train, y_test = train_test_split(X,\n",
    "                                                   y,\n",
    "                                                   test_size=0.25,\n",
    "                                                   random_state=0)\n",
    "print(X_train,'\\n')\n",
    "print(y_train)"
   ]
  },
  {
   "cell_type": "markdown",
   "id": "e745b6dc",
   "metadata": {},
   "source": [
    "## Feature Extraction dengan TF-IDF"
   ]
  },
  {
   "cell_type": "code",
   "execution_count": 9,
   "id": "d86d2f31",
   "metadata": {},
   "outputs": [
    {
     "name": "stdout",
     "output_type": "stream",
     "text": [
      "  (0, 6903)\t0.3591386422223876\n",
      "  (0, 2006)\t0.2898082580285881\n",
      "  (0, 900)\t0.4114867709157148\n",
      "  (0, 6739)\t0.3546359942830148\n",
      "  (0, 2554)\t0.3825278811525034\n",
      "  (0, 3926)\t0.3126721340000456\n",
      "  (0, 4453)\t0.2297719954323795\n",
      "  (0, 5123)\t0.308974289326673\n",
      "  (0, 3007)\t0.21421364306658514\n",
      "  (0, 2997)\t0.23173982975834367\n",
      "  (1, 36)\t0.28902673040368515\n",
      "  (1, 1548)\t0.18167737976542422\n",
      "  (1, 2003)\t0.2711077935907125\n",
      "  (1, 5301)\t0.2711077935907125\n",
      "  (1, 4358)\t0.17341410292348694\n",
      "  (1, 532)\t0.20186022353306565\n",
      "  (1, 6131)\t0.16142609035094446\n",
      "  (1, 5394)\t0.16464655071448758\n",
      "  (1, 4677)\t0.24039776602646504\n",
      "  (1, 216)\t0.28902673040368515\n",
      "  (1, 6013)\t0.20089911182610476\n",
      "  (1, 6472)\t0.24039776602646504\n",
      "  (1, 5441)\t0.5009783758205715\n",
      "  (1, 799)\t0.25048918791028574\n",
      "  (1, 5642)\t0.24344998442301355\n",
      "  :\t:\n",
      "  (4176, 343)\t0.2811068572055718\n",
      "  (4176, 107)\t0.29968668460649284\n",
      "  (4176, 2004)\t0.25589560236817055\n",
      "  (4176, 4350)\t0.29968668460649284\n",
      "  (4176, 637)\t0.29968668460649284\n",
      "  (4176, 7114)\t0.4512018097459442\n",
      "  (4176, 365)\t0.2388005587702937\n",
      "  (4176, 1612)\t0.21138425595332702\n",
      "  (4176, 779)\t0.2811068572055718\n",
      "  (4176, 7195)\t0.17892283441772988\n",
      "  (4176, 1569)\t0.18895085073406012\n",
      "  (4176, 7083)\t0.19523751585154273\n",
      "  (4176, 6684)\t0.22114159453800114\n",
      "  (4176, 6693)\t0.16491299289150899\n",
      "  (4176, 6792)\t0.1407604617250961\n",
      "  (4177, 2362)\t0.6158854885899457\n",
      "  (4177, 5565)\t0.5506066649743346\n",
      "  (4177, 4177)\t0.3636187667918345\n",
      "  (4177, 3319)\t0.43046342221720785\n",
      "  (4178, 5883)\t0.548491137555895\n",
      "  (4178, 4279)\t0.4530624713751054\n",
      "  (4178, 5720)\t0.3963527249882828\n",
      "  (4178, 6555)\t0.2897850627168302\n",
      "  (4178, 2641)\t0.3993042639531407\n",
      "  (4178, 2068)\t0.3055766821331892\n"
     ]
    }
   ],
   "source": [
    "from sklearn.feature_extraction.text import TfidfVectorizer\n",
    "\n",
    "vectorizer = TfidfVectorizer(stop_words='english')\n",
    "X_train_tfidf = vectorizer.fit_transform(X_train)\n",
    "X_test_tfidf = vectorizer.transform(X_test)\n",
    "\n",
    "print(X_train_tfidf)"
   ]
  },
  {
   "cell_type": "markdown",
   "id": "2426ed5d",
   "metadata": {},
   "source": [
    "## Binary Classification dengan Logistic Regression"
   ]
  },
  {
   "cell_type": "code",
   "execution_count": 10,
   "id": "b8fe9844",
   "metadata": {},
   "outputs": [
    {
     "name": "stdout",
     "output_type": "stream",
     "text": [
      "PRED: 0 - SMS: Storming msg: Wen u lift d phne, u say \"HELLO\" Do u knw wt is d real meaning of HELLO?? . . . It's d name of a girl..! . . . Yes.. And u knw who is dat girl?? \"Margaret Hello\" She is d girlfrnd f Grahmbell who invnted telphone... . . . . Moral:One can 4get d name of a person, bt not his girlfrnd... G o o d n i g h t . . .@\n",
      "\n",
      "PRED: 0 - SMS: <Forwarded from 448712404000>Please CALL 08712404000 immediately as there is an urgent message waiting for you.\n",
      "\n",
      "PRED: 0 - SMS: And also I've sorta blown him off a couple times recently so id rather not text him out of the blue looking for weed\n",
      "\n",
      "PRED: 0 - SMS: Sir Goodmorning, Once free call me.\n",
      "\n",
      "PRED: 0 - SMS: All will come alive.better correct any good looking figure there itself..\n",
      "\n"
     ]
    }
   ],
   "source": [
    "from sklearn.linear_model import LogisticRegression\n",
    "model = LogisticRegression()\n",
    "model.fit(X_train_tfidf,y_train)\n",
    "y_pred = model.predict(X_test_tfidf)\n",
    "\n",
    "for pred, sms in zip(y_pred[:5],X_test[:5]):\n",
    "    print(f'PRED: {pred} - SMS: {sms}\\n')"
   ]
  },
  {
   "cell_type": "markdown",
   "id": "0632d6d4",
   "metadata": {},
   "source": [
    "## Evaluation Metrics pada Binary Classification\n",
    "- Confussion matrix\n",
    "- Accuracy\n",
    "- Precision and Recall\n",
    "- F1 score\n",
    "- ROC"
   ]
  },
  {
   "cell_type": "markdown",
   "id": "2babd5c7",
   "metadata": {},
   "source": [
    "## Terminologi Dasar\n",
    "- True Positive (TP)\n",
    "merupakan sesuatu yang dengan hasil akhir positif sesuai dengan yang diprediksi oleh model\n",
    "- True Negative (TN)\n",
    "merupakan sesuatu yang dengan hasil akhir negatif sesuai dengan yang diprediksi oleh model\n",
    "- False Positive (FP)\n",
    "merupakan sesuatu yang dengan hasil akhir positif keliru diprediksi oleh model\n",
    "- False Negative (FN)\n",
    "merupakan sesuatu yang dengan hasil akhir negatif keliru diprediksi oleh model"
   ]
  },
  {
   "cell_type": "markdown",
   "id": "a9f3f039",
   "metadata": {},
   "source": [
    "## Confusion Matrix\n",
    "confusion matrix sering kali dikenal sebagai error matrix"
   ]
  },
  {
   "cell_type": "code",
   "execution_count": 11,
   "id": "a6341961",
   "metadata": {},
   "outputs": [
    {
     "data": {
      "text/plain": [
       "array([[1207,    1],\n",
       "       [  48,  137]], dtype=int64)"
      ]
     },
     "execution_count": 11,
     "metadata": {},
     "output_type": "execute_result"
    }
   ],
   "source": [
    "from sklearn.metrics import confusion_matrix\n",
    "matrix  = confusion_matrix(y_test,y_pred)\n",
    "matrix"
   ]
  },
  {
   "cell_type": "code",
   "execution_count": 12,
   "id": "124e1241",
   "metadata": {},
   "outputs": [
    {
     "name": "stdout",
     "output_type": "stream",
     "text": [
      "TN : 1207\n",
      "FP : 1\n",
      "FN : 48\n",
      "TP : 137\n"
     ]
    }
   ],
   "source": [
    "tn,fp,fn,tp = matrix.ravel()\n",
    "print(f'TN : {tn}')\n",
    "print(f'FP : {fp}')\n",
    "print(f'FN : {fn}')\n",
    "print(f'TP : {tp}')"
   ]
  },
  {
   "cell_type": "code",
   "execution_count": 13,
   "id": "08da0859",
   "metadata": {},
   "outputs": [
    {
     "data": {
      "image/png": "[encoded data removed]",
      "text/plain": [
       "<Figure size 288x288 with 2 Axes>"
      ]
     },
     "metadata": {
      "needs_background": "light"
     },
     "output_type": "display_data"
    }
   ],
   "source": [
    "import matplotlib.pyplot as plt\n",
    "plt.matshow(matrix)\n",
    "plt.colorbar()\n",
    "\n",
    "plt.title('Confusion Matrix')\n",
    "plt.ylabel('True label')\n",
    "plt.xlabel('Predicted label')\n",
    "plt.show()"
   ]
  },
  {
   "cell_type": "markdown",
   "id": "2fddfd54",
   "metadata": {},
   "source": [
    "## Accuracy\n",
    "Accuracy digunakan untuk mengukur porsi prediksi yang tepat\n",
    "pada hasil simulasi di bawah bisa dibaca tingkat akurasi mencapai 96%"
   ]
  },
  {
   "cell_type": "code",
   "execution_count": 14,
   "id": "f4c1cba4",
   "metadata": {},
   "outputs": [
    {
     "data": {
      "text/plain": [
       "0.964824120603015"
      ]
     },
     "execution_count": 14,
     "metadata": {},
     "output_type": "execute_result"
    }
   ],
   "source": [
    "from sklearn.metrics import accuracy_score\n",
    "accuracy_score(y_test,y_pred)"
   ]
  },
  {
   "cell_type": "markdown",
   "id": "a7117669",
   "metadata": {},
   "source": [
    "## Pengenalan Precision dan Recall\n",
    "Perbedaan antara precision dan recall\n",
    "- Pada precision yang dibandingkan adalah proporsi true positive dengan keseluruhan uji true positive ditambah dengan false positive\n",
    "- Pada recall yang dibandingkan adalah proporsi true positive dengan keseluruhan nilai positif nya (true positive ditambah dengan false negatif)\n",
    "Precision sering kali dikenal dengan istilah PPV (Positive Predictive Value)"
   ]
  },
  {
   "cell_type": "markdown",
   "id": "e2616081",
   "metadata": {},
   "source": [
    "### Precision or Positive Predictive Value (PPV)\n"
   ]
  },
  {
   "cell_type": "code",
   "execution_count": 15,
   "id": "e2eb94f0",
   "metadata": {},
   "outputs": [
    {
     "data": {
      "text/plain": [
       "0.9927536231884058"
      ]
     },
     "execution_count": 15,
     "metadata": {},
     "output_type": "execute_result"
    }
   ],
   "source": [
    "from sklearn.metrics import precision_score\n",
    "precision_score(y_test,y_pred)\n"
   ]
  },
  {
   "cell_type": "markdown",
   "id": "12e62784",
   "metadata": {},
   "source": [
    "### Recall or True Positive Rate (TPR)"
   ]
  },
  {
   "cell_type": "code",
   "execution_count": 18,
   "id": "8ddff4c3",
   "metadata": {},
   "outputs": [
    {
     "data": {
      "text/plain": [
       "0.7405405405405405"
      ]
     },
     "execution_count": 18,
     "metadata": {},
     "output_type": "execute_result"
    }
   ],
   "source": [
    "from sklearn.metrics import recall_score\n",
    "recall_score(y_test,y_pred)"
   ]
  },
  {
   "cell_type": "markdown",
   "id": "6115eae1",
   "metadata": {},
   "source": [
    "## F-1 Score"
   ]
  },
  {
   "cell_type": "code",
   "execution_count": 19,
   "id": "e1923285",
   "metadata": {},
   "outputs": [
    {
     "data": {
      "text/plain": [
       "0.8482972136222909"
      ]
     },
     "execution_count": 19,
     "metadata": {},
     "output_type": "execute_result"
    }
   ],
   "source": [
    "from sklearn.metrics import f1_score\n",
    "f1_score(y_test,y_pred)"
   ]
  },
  {
   "cell_type": "code",
   "execution_count": null,
   "id": "d665cfd8",
   "metadata": {},
   "outputs": [],
   "source": []
  }
 ],
 "metadata": {
  "kernelspec": {
   "display_name": "Python 3 (ipykernel)",
   "language": "python",
   "name": "python3"
  },
  "language_info": {
   "codemirror_mode": {
    "name": "ipython",
    "version": 3
   },
   "file_extension": ".py",
   "mimetype": "text/x-python",
   "name": "python",
   "nbconvert_exporter": "python",
   "pygments_lexer": "ipython3",
   "version": "3.9.7"
  }
 },
 "nbformat": 4,
 "nbformat_minor": 5
}
