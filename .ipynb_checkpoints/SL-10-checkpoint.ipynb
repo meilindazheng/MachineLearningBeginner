{
 "cells": [
  {
   "cell_type": "markdown",
   "id": "e97ac2ec",
   "metadata": {},
   "source": [
    "# Logistic Regression pada Binary Classification Task"
   ]
  },
  {
   "cell_type": "markdown",
   "id": "e3b2a35a",
   "metadata": {},
   "source": [
    "## Formula Dasar\n",
    "perbedaan mendasar dari simple linear regression dengan multiple linear regression adalah \n",
    "- Pada simple linear regression nilai x merupakan feature tunggal\n",
    "- Pada multiple linear regression nilai X merupakan feature jamak"
   ]
  },
  {
   "cell_type": "markdown",
   "id": "ebdab74a",
   "metadata": {},
   "source": [
    "### Simple Linear Regression\n",
    "####  $y$ =  $\\alpha$ +  $\\beta_{x}$\n",
    "#### $g(x)$ = $\\alpha$ +  $\\beta_{x}$\n",
    "### Multiple Linear Regression\n",
    "####  $y$ =  $\\alpha$ +  $\\beta_{1}x_{1}$ +  $\\beta_{2}x_{2}$ + ... +  $\\beta_{n}x_{n}$\n",
    "#### $g(X)$ = $\\alpha$ +  $\\beta$X\n",
    "### Logistic Regression\n",
    "#### $g(X)$ = $sigmoid(\\alpha +\\beta X)$\n",
    "#### $sigmoid(x)$ =  $\\frac{1}{1+exp(-x)}$"
   ]
  },
  {
   "cell_type": "markdown",
   "id": "70750419",
   "metadata": {},
   "source": [
    "Catatan penting :\n",
    "- Kurva sigmoid hasil penggambaran akan memiliki bentuk seperti huruf S\n",
    "- Tidak ada patokan khusus untuk rentang nilai di sumbu X\n",
    "- Rentang nilai di sumbu y berkisar di antara 0-1"
   ]
  },
  {
   "cell_type": "markdown",
   "id": "26e0510f",
   "metadata": {},
   "source": [
    "## Dataset SMS Spam Collection Data Set\n",
    "- Dataset di bawah merupakan contoh dataset yang tidak balance dikarenakan jumlah ham jauh lebih besar dibandingkan jumlah spam"
   ]
  },
  {
   "cell_type": "code",
   "execution_count": 2,
   "id": "87d709a6",
   "metadata": {},
   "outputs": [
    {
     "data": {
      "text/html": [
       "<div>\n",
       "<style scoped>\n",
       "    .dataframe tbody tr th:only-of-type {\n",
       "        vertical-align: middle;\n",
       "    }\n",
       "\n",
       "    .dataframe tbody tr th {\n",
       "        vertical-align: top;\n",
       "    }\n",
       "\n",
       "    .dataframe thead th {\n",
       "        text-align: right;\n",
       "    }\n",
       "</style>\n",
       "<table border=\"1\" class=\"dataframe\">\n",
       "  <thead>\n",
       "    <tr style=\"text-align: right;\">\n",
       "      <th></th>\n",
       "      <th>label</th>\n",
       "      <th>sms</th>\n",
       "    </tr>\n",
       "  </thead>\n",
       "  <tbody>\n",
       "    <tr>\n",
       "      <th>0</th>\n",
       "      <td>ham</td>\n",
       "      <td>Go until jurong point, crazy.. Available only ...</td>\n",
       "    </tr>\n",
       "    <tr>\n",
       "      <th>1</th>\n",
       "      <td>ham</td>\n",
       "      <td>Ok lar... Joking wif u oni...</td>\n",
       "    </tr>\n",
       "    <tr>\n",
       "      <th>2</th>\n",
       "      <td>spam</td>\n",
       "      <td>Free entry in 2 a wkly comp to win FA Cup fina...</td>\n",
       "    </tr>\n",
       "    <tr>\n",
       "      <th>3</th>\n",
       "      <td>ham</td>\n",
       "      <td>U dun say so early hor... U c already then say...</td>\n",
       "    </tr>\n",
       "    <tr>\n",
       "      <th>4</th>\n",
       "      <td>ham</td>\n",
       "      <td>Nah I don't think he goes to usf, he lives aro...</td>\n",
       "    </tr>\n",
       "  </tbody>\n",
       "</table>\n",
       "</div>"
      ],
      "text/plain": [
       "  label                                                sms\n",
       "0   ham  Go until jurong point, crazy.. Available only ...\n",
       "1   ham                      Ok lar... Joking wif u oni...\n",
       "2  spam  Free entry in 2 a wkly comp to win FA Cup fina...\n",
       "3   ham  U dun say so early hor... U c already then say...\n",
       "4   ham  Nah I don't think he goes to usf, he lives aro..."
      ]
     },
     "execution_count": 2,
     "metadata": {},
     "output_type": "execute_result"
    }
   ],
   "source": [
    "import pandas as pd \n",
    "df = pd.read_csv('./SMSSpamCollection',\n",
    "                sep='\\t',\n",
    "                header = None,\n",
    "                names = ['label','sms'])\n",
    "df.head()"
   ]
  },
  {
   "cell_type": "code",
   "execution_count": 3,
   "id": "78b8d258",
   "metadata": {},
   "outputs": [
    {
     "data": {
      "text/plain": [
       "ham     4825\n",
       "spam     747\n",
       "Name: label, dtype: int64"
      ]
     },
     "execution_count": 3,
     "metadata": {},
     "output_type": "execute_result"
    }
   ],
   "source": [
    "df['label'].value_counts()"
   ]
  },
  {
   "cell_type": "code",
   "execution_count": null,
   "id": "6e8121a2",
   "metadata": {},
   "outputs": [],
   "source": []
  }
 ],
 "metadata": {
  "kernelspec": {
   "display_name": "Python 3 (ipykernel)",
   "language": "python",
   "name": "python3"
  },
  "language_info": {
   "codemirror_mode": {
    "name": "ipython",
    "version": 3
   },
   "file_extension": ".py",
   "mimetype": "text/x-python",
   "name": "python",
   "nbconvert_exporter": "python",
   "pygments_lexer": "ipython3",
   "version": "3.9.7"
  }
 },
 "nbformat": 4,
 "nbformat_minor": 5
}
