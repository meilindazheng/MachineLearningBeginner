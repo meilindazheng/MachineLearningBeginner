{
 "cells": [
  {
   "cell_type": "markdown",
   "id": "ca6f8f72",
   "metadata": {},
   "source": [
    "# Classification Task dengan Naive Bayes"
   ]
  },
  {
   "cell_type": "markdown",
   "id": "9c170603",
   "metadata": {},
   "source": [
    "## Bayes Theorem\n",
    "Bayes Theorem menawarkan suatu formula untuk menghitung nilai probability dari sebuah event dengan memanfaatkan pengetahuan sebelumnya dari kondisi sebelumnya "
   ]
  },
  {
   "cell_type": "markdown",
   "id": "d0442602",
   "metadata": {},
   "source": [
    "## Pengenalan Naive Bayes\n",
    "Studi Kasus \n",
    "Di sebuah warung terdapat dua pelanggan dengan probabilitas pemesanan menu di bawah ini :\n",
    "Asep \n",
    "siomay : 0.1\n",
    "bakso : 0.8\n",
    "lumpia : 0.1\n",
    "Joko \n",
    "siomay : 0.5\n",
    "bakso : 0.2\n",
    "lumpia : 0.3\n",
    "Misi : lakukan prediksi pelanggan dengan pemesanan menu lumpia dan bakso"
   ]
  },
  {
   "cell_type": "markdown",
   "id": "d423fd01",
   "metadata": {},
   "source": [
    "### Prior probability "
   ]
  },
  {
   "cell_type": "markdown",
   "id": "606ddbb1",
   "metadata": {},
   "source": [
    "P(Asep) = 0.5\n",
    "P(Joko) = 0.5"
   ]
  },
  {
   "cell_type": "markdown",
   "id": "bd4584fa",
   "metadata": {},
   "source": [
    "### Likelihood"
   ]
  },
  {
   "cell_type": "markdown",
   "id": "2b30a1a9",
   "metadata": {},
   "source": [
    "Asep \n",
    "P(lumpia,bakso|asep) : 0.1 x 0.8\n",
    "                     : 0.08\n",
    "Joko\n",
    "P(lumpia,bakso|joko) : 0.3 x 0.2\n",
    "                     : 0.06"
   ]
  },
  {
   "cell_type": "code",
   "execution_count": null,
   "id": "cabe3628",
   "metadata": {},
   "outputs": [],
   "source": []
  }
 ],
 "metadata": {
  "kernelspec": {
   "display_name": "Python 3 (ipykernel)",
   "language": "python",
   "name": "python3"
  },
  "language_info": {
   "codemirror_mode": {
    "name": "ipython",
    "version": 3
   },
   "file_extension": ".py",
   "mimetype": "text/x-python",
   "name": "python",
   "nbconvert_exporter": "python",
   "pygments_lexer": "ipython3",
   "version": "3.9.7"
  }
 },
 "nbformat": 4,
 "nbformat_minor": 5
}
