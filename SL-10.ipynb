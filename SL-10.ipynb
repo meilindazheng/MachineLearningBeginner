{
 "cells": [
  {
   "cell_type": "markdown",
   "id": "e97ac2ec",
   "metadata": {},
   "source": [
    "# Logistic Regression pada Binary Classification Task"
   ]
  },
  {
   "cell_type": "markdown",
   "id": "e3b2a35a",
   "metadata": {},
   "source": [
    "## Formula Dasar\n",
    "perbedaan mendasar dari simple linear regression dengan multiple linear regression adalah \n",
    "- Pada simple linear regression nilai x merupakan feature tunggal\n",
    "- Pada multiple linear regression nilai X merupakan feature jamak"
   ]
  },
  {
   "cell_type": "markdown",
   "id": "ebdab74a",
   "metadata": {},
   "source": [
    "### Simple Linear Regression\n",
    "####  $y$ =  $\\alpha$ +  $\\beta_{x}$\n",
    "#### $g(x)$ = $\\alpha$ +  $\\beta_{x}$\n",
    "### Multiple Linear Regression\n",
    "####  $y$ =  $\\alpha$ +  $\\beta_{1}x_{1}$ +  $\\beta_{2}x_{2}$ + ... +  $\\beta_{n}x_{n}$\n",
    "#### $g(X)$ = $\\alpha$ +  $\\beta$X\n",
    "### Logistic Regression\n",
    "#### $g(X)$ = $sigmoid(\\alpha +\\beta X)$\n",
    "#### $sigmoid(x)$ =  $\\frac{1}{1+exp(-x)}$"
   ]
  },
  {
   "cell_type": "markdown",
   "id": "70750419",
   "metadata": {},
   "source": [
    "Catatan penting :\n",
    "- Kurva sigmoid hasil penggambaran akan memiliki bentuk seperti huruf S\n",
    "- Tidak ada patokan khusus untuk rentang nilai di sumbu X\n",
    "- Rentang nilai di sumbu y berkisar di antara 0-1"
   ]
  },
  {
   "cell_type": "code",
   "execution_count": null,
   "id": "8135f191",
   "metadata": {},
   "outputs": [],
   "source": []
  },
  {
   "cell_type": "code",
   "execution_count": null,
   "id": "87d709a6",
   "metadata": {},
   "outputs": [],
   "source": []
  },
  {
   "cell_type": "code",
   "execution_count": null,
   "id": "78b8d258",
   "metadata": {},
   "outputs": [],
   "source": []
  }
 ],
 "metadata": {
  "kernelspec": {
   "display_name": "Python 3 (ipykernel)",
   "language": "python",
   "name": "python3"
  },
  "language_info": {
   "codemirror_mode": {
    "name": "ipython",
    "version": 3
   },
   "file_extension": ".py",
   "mimetype": "text/x-python",
   "name": "python",
   "nbconvert_exporter": "python",
   "pygments_lexer": "ipython3",
   "version": "3.9.7"
  }
 },
 "nbformat": 4,
 "nbformat_minor": 5
}
