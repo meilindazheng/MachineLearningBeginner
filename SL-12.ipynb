{
 "cells": [
  {
   "cell_type": "markdown",
   "id": "0b6fd994",
   "metadata": {},
   "source": [
    "# Classification dengan Super Vector Machine"
   ]
  },
  {
   "cell_type": "markdown",
   "id": "fd5e23c4",
   "metadata": {},
   "source": [
    "## Catatan Penting\n",
    "Decision Boundary \n",
    "- Jika hanya terdapat 1 feature saja maka decision akan berupa titik (threshold)\n",
    "- Jika terdapat 2 feature maka decision boundary akan berupa garis linear\n",
    "- Jika terdapat 3 feature maka decision boundary akan berupa bidang datar (plane)\n"
   ]
  },
  {
   "cell_type": "markdown",
   "id": "aae1d8cf",
   "metadata": {},
   "source": [
    "Margin\n",
    "- Margin ditentukan dari jarak terdekat dari decision boundary dengan anggota dari kelas yang ingin dipisahkan"
   ]
  },
  {
   "cell_type": "markdown",
   "id": "9dbca531",
   "metadata": {},
   "source": [
    "## Dataset The MNIST database of handwritten digits"
   ]
  },
  {
   "cell_type": "code",
   "execution_count": 3,
   "id": "4be0b5a6",
   "metadata": {},
   "outputs": [
    {
     "data": {
      "text/plain": [
       "(70000, 784)"
      ]
     },
     "execution_count": 3,
     "metadata": {},
     "output_type": "execute_result"
    }
   ],
   "source": [
    "from sklearn.datasets import fetch_openml\n",
    "\n",
    "X,y = fetch_openml('mnist_784',data_home='./mnist',return_X_y=True)\n",
    "X.shape"
   ]
  },
  {
   "cell_type": "code",
   "execution_count": null,
   "id": "b5404a08",
   "metadata": {},
   "outputs": [],
   "source": []
  }
 ],
 "metadata": {
  "kernelspec": {
   "display_name": "Python 3 (ipykernel)",
   "language": "python",
   "name": "python3"
  },
  "language_info": {
   "codemirror_mode": {
    "name": "ipython",
    "version": 3
   },
   "file_extension": ".py",
   "mimetype": "text/x-python",
   "name": "python",
   "nbconvert_exporter": "python",
   "pygments_lexer": "ipython3",
   "version": "3.9.7"
  }
 },
 "nbformat": 4,
 "nbformat_minor": 5
}
